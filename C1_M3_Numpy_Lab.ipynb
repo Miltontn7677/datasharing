{
  "cells": [
    {
      "cell_type": "markdown",
      "metadata": {
        "id": "view-in-github",
        "colab_type": "text"
      },
      "source": [
        "<a href=\"https://colab.research.google.com/github/Miltontn7677/datasharing/blob/master/C1_M3_Numpy_Lab.ipynb\" target=\"_parent\"><img src=\"https://colab.research.google.com/assets/colab-badge.svg\" alt=\"Open In Colab\"/></a>"
      ]
    },
    {
      "cell_type": "markdown",
      "source": [
        "# Numpy!\n",
        "\n",
        "This section is all about the package, Numpy. Are you ready? Let's go!\n",
        "\n",
        "You will find some small tasks in sections below. Most codes are hidden and you can only see the output.\n",
        "\n",
        "> Try to figure out by yourself, or search for references. Being able to search and find information needed is an important skill that benefits you and your career for a long time.\n",
        "\n",
        "\n",
        "\n"
      ],
      "metadata": {
        "id": "fe7l2Vy92BWu",
        "cell_id": "1339ee23adcc4995b0c1098dfb74c86b",
        "deepnote_cell_height": 274,
        "deepnote_app_coordinates": {
          "h": 5,
          "w": 12,
          "x": 0,
          "y": 1
        },
        "deepnote_cell_type": "markdown"
      }
    },
    {
      "cell_type": "markdown",
      "source": [
        "## Import the package and rename it as np"
      ],
      "metadata": {
        "id": "eHesfjN3BPg0",
        "cell_id": "7d624a6df76947f89ce7fcabdfdef6b3",
        "deepnote_cell_height": 69.59375,
        "deepnote_app_coordinates": {
          "h": 5,
          "w": 12,
          "x": 0,
          "y": 7
        },
        "deepnote_cell_type": "markdown"
      }
    },
    {
      "cell_type": "code",
      "source": [
        "# your code is here\n",
        "import numpy as np"
      ],
      "metadata": {
        "id": "_QPNs2sOBQMT",
        "cell_id": "e385d77529924ccd9e6dd275c9bbd2a4",
        "source_hash": "c2602aa8",
        "execution_start": 1664740594740,
        "execution_millis": 83455,
        "deepnote_app_coordinates": {
          "h": 5,
          "w": 12,
          "x": 0,
          "y": 13
        },
        "deepnote_to_be_reexecuted": false,
        "deepnote_app_is_code_hidden": true,
        "deepnote_cell_type": "code"
      },
      "outputs": [],
      "execution_count": 3
    },
    {
      "cell_type": "markdown",
      "source": [
        "## Array Creation"
      ],
      "metadata": {
        "id": "TTElGHtF2N7g",
        "cell_id": "72b88926f4724243992dbd799b4d5f6b",
        "deepnote_cell_height": 69.59375,
        "deepnote_app_coordinates": {
          "h": 5,
          "w": 12,
          "x": 0,
          "y": 19
        },
        "deepnote_cell_type": "markdown"
      }
    },
    {
      "cell_type": "code",
      "source": [
        "ar1 = np.array"
      ],
      "metadata": {
        "id": "V75yobjz3XKD"
      },
      "execution_count": null,
      "outputs": []
    },
    {
      "cell_type": "markdown",
      "source": [
        "### Task: Create a numpy array from a list of integers"
      ],
      "metadata": {
        "id": "0CtQu71C3PP8",
        "cell_id": "6cf31a7e4a1047ccac9622632d323298",
        "deepnote_cell_height": 61.59375,
        "deepnote_app_coordinates": {
          "h": 5,
          "w": 12,
          "x": 0,
          "y": 25
        },
        "deepnote_cell_type": "markdown"
      }
    },
    {
      "cell_type": "code",
      "source": [
        "# your code is here\n",
        "ar1 = np.array(range(1, 11))\n"
      ],
      "metadata": {
        "id": "MMH_3H9r5wrz",
        "cell_id": "bb3c56dcd2384713905c252aef280c7e",
        "source_hash": "7fb83082",
        "execution_start": 1664740594740,
        "execution_millis": 191,
        "deepnote_app_coordinates": {
          "h": 5,
          "w": 12,
          "x": 0,
          "y": 31
        },
        "deepnote_to_be_reexecuted": false,
        "deepnote_app_is_code_hidden": true,
        "deepnote_cell_type": "code"
      },
      "outputs": [],
      "execution_count": null
    },
    {
      "cell_type": "markdown",
      "source": [
        "### Task: Create a numpy array of size 6, filled with zeros"
      ],
      "metadata": {
        "id": "3FK5QxBO3dqS",
        "cell_id": "63de87fdc99543cb8a98c76cf2937c70",
        "deepnote_cell_height": 93.59375,
        "deepnote_app_coordinates": {
          "h": 5,
          "w": 12,
          "x": 0,
          "y": 37
        },
        "deepnote_cell_type": "markdown"
      }
    },
    {
      "cell_type": "code",
      "source": [
        "# your code is here\n",
        "ar2 = np.zeros(6)"
      ],
      "metadata": {
        "id": "w-XimSI88J1J",
        "cell_id": "462738ccd589428888b35fd7915b9e31",
        "source_hash": "781b9d75",
        "execution_start": 1664740594743,
        "execution_millis": 205,
        "deepnote_app_coordinates": {
          "h": 5,
          "w": 12,
          "x": 0,
          "y": 43
        },
        "deepnote_to_be_reexecuted": false,
        "deepnote_app_is_code_hidden": true,
        "deepnote_cell_type": "code"
      },
      "outputs": [],
      "execution_count": null
    },
    {
      "cell_type": "markdown",
      "source": [
        "### Task: Create a numpy array of size 6, filled with ones"
      ],
      "metadata": {
        "id": "Db9Fwz4KI2al",
        "cell_id": "369be64fee5a418690ab39066b143db2",
        "deepnote_cell_height": 93.59375,
        "deepnote_app_coordinates": {
          "h": 5,
          "w": 12,
          "x": 0,
          "y": 49
        },
        "deepnote_cell_type": "markdown"
      }
    },
    {
      "cell_type": "code",
      "source": [
        "# your code is here\n",
        "ar3 = np.ones(6)"
      ],
      "metadata": {
        "id": "W-PCGPuPUSTv",
        "cell_id": "ff00da18e7eb423091729f9104ad11d1",
        "source_hash": "d5ee4131",
        "execution_start": 1664740594748,
        "execution_millis": 207,
        "deepnote_app_coordinates": {
          "h": 5,
          "w": 12,
          "x": 0,
          "y": 55
        },
        "deepnote_to_be_reexecuted": false,
        "deepnote_app_is_code_hidden": true,
        "deepnote_cell_type": "code"
      },
      "outputs": [],
      "execution_count": null
    },
    {
      "cell_type": "markdown",
      "source": [
        "### Task: Create a numpy array with values from 0 to 10"
      ],
      "metadata": {
        "id": "42rLKWbe3l8m",
        "cell_id": "e774eabb00b34de9b9b2e4dfdaac29a0",
        "deepnote_cell_height": 62,
        "deepnote_app_coordinates": {
          "h": 5,
          "w": 12,
          "x": 0,
          "y": 61
        },
        "deepnote_cell_type": "markdown"
      }
    },
    {
      "cell_type": "code",
      "source": [
        "# your code is here\n",
        "ar4=np.arange(11)"
      ],
      "metadata": {
        "id": "ExbcAYLk8LYI",
        "cell_id": "357c82dd535b40ce9a7f26cfae138d3f",
        "source_hash": "6f5dffbe",
        "execution_start": 1664740594774,
        "execution_millis": 182,
        "deepnote_app_coordinates": {
          "h": 5,
          "w": 12,
          "x": 0,
          "y": 67
        },
        "deepnote_to_be_reexecuted": false,
        "deepnote_app_is_code_hidden": true,
        "deepnote_cell_type": "code"
      },
      "outputs": [],
      "execution_count": null
    },
    {
      "cell_type": "markdown",
      "source": [
        "### Task: Create a numpy matrix of 2*3 integers, filled with zeros"
      ],
      "metadata": {
        "id": "c5314DLtJVyv",
        "cell_id": "889dc86e0d4546a7a0c9692669523efc",
        "deepnote_cell_height": 94,
        "deepnote_app_coordinates": {
          "h": 5,
          "w": 12,
          "x": 0,
          "y": 73
        },
        "deepnote_cell_type": "markdown"
      }
    },
    {
      "cell_type": "code",
      "source": [
        "# your code is here\n",
        "ar5=np.zeros((2,3))\n",
        "ar5"
      ],
      "metadata": {
        "id": "JRNBES4MUTV2",
        "cell_id": "b1cdf8e8270447889759c789c17cc796",
        "source_hash": "28403821",
        "execution_start": 1664740594775,
        "execution_millis": 181,
        "deepnote_app_coordinates": {
          "h": 5,
          "w": 12,
          "x": 0,
          "y": 79
        },
        "deepnote_to_be_reexecuted": false,
        "deepnote_app_is_code_hidden": true,
        "deepnote_cell_type": "code",
        "colab": {
          "base_uri": "https://localhost:8080/"
        },
        "outputId": "4fdda54d-3baf-4bc7-9765-6914f1864f9b"
      },
      "outputs": [
        {
          "output_type": "execute_result",
          "data": {
            "text/plain": [
              "array([[0., 0., 0.],\n",
              "       [0., 0., 0.]])"
            ]
          },
          "metadata": {},
          "execution_count": 35
        }
      ],
      "execution_count": null
    },
    {
      "cell_type": "markdown",
      "source": [
        "### Task: Create a numpy matrix of 3*2 integers, filled with ones"
      ],
      "metadata": {
        "id": "tyPLq8JwJcQR",
        "cell_id": "ed6992dac1804acc8a73f0eb6b6f98ef",
        "deepnote_cell_height": 94,
        "deepnote_app_coordinates": {
          "h": 5,
          "w": 12,
          "x": 0,
          "y": 85
        },
        "deepnote_cell_type": "markdown"
      }
    },
    {
      "cell_type": "code",
      "source": [
        "# your code is here\n",
        "ar6=np.ones((3,2))\n",
        "ar6"
      ],
      "metadata": {
        "id": "BbZBfz_qUUgf",
        "cell_id": "9186c7a1bf2441ff83cc6e372312a952",
        "source_hash": "6f2c4e40",
        "execution_start": 1664740594776,
        "execution_millis": 181,
        "deepnote_app_coordinates": {
          "h": 5,
          "w": 12,
          "x": 0,
          "y": 91
        },
        "deepnote_to_be_reexecuted": false,
        "deepnote_app_is_code_hidden": true,
        "deepnote_cell_type": "code",
        "colab": {
          "base_uri": "https://localhost:8080/"
        },
        "outputId": "59ae0024-244a-4715-9b03-1f9e4b75e24d"
      },
      "outputs": [
        {
          "output_type": "execute_result",
          "data": {
            "text/plain": [
              "array([[1., 1.],\n",
              "       [1., 1.],\n",
              "       [1., 1.]])"
            ]
          },
          "metadata": {},
          "execution_count": 36
        }
      ],
      "execution_count": null
    },
    {
      "cell_type": "markdown",
      "source": [
        "### Task: Create a numpy matrix of 3*2 integers, filled with random integers in [0, 10]"
      ],
      "metadata": {
        "id": "oIYfk1CJJs4R",
        "cell_id": "c45c13a8fc70463394860ec6cb4e2d5e",
        "deepnote_cell_height": 94,
        "deepnote_app_coordinates": {
          "h": 5,
          "w": 12,
          "x": 0,
          "y": 97
        },
        "deepnote_cell_type": "markdown"
      }
    },
    {
      "cell_type": "code",
      "source": [
        "# your code is here\n",
        "ar7=np.random.randint(0,10,(3,2))\n",
        "ar7"
      ],
      "metadata": {
        "id": "f3rSXHN1UVJt",
        "cell_id": "d2cb0c6ffaa74f1e85d0e173e92598ec",
        "source_hash": "6304eb41",
        "execution_start": 1664740594783,
        "execution_millis": 175,
        "deepnote_app_coordinates": {
          "h": 5,
          "w": 12,
          "x": 0,
          "y": 103
        },
        "deepnote_to_be_reexecuted": false,
        "deepnote_app_is_code_hidden": true,
        "deepnote_cell_type": "code",
        "colab": {
          "base_uri": "https://localhost:8080/"
        },
        "outputId": "6a2eb69a-e1bc-465e-ae09-668ead8bf7c9"
      },
      "outputs": [
        {
          "output_type": "execute_result",
          "data": {
            "text/plain": [
              "array([[8, 4],\n",
              "       [7, 8],\n",
              "       [5, 2]])"
            ]
          },
          "metadata": {},
          "execution_count": 37
        }
      ],
      "execution_count": null
    },
    {
      "cell_type": "markdown",
      "source": [
        "### Task: Create a numpy matrix of 100 * 2, filled with random float value in [0, 1]"
      ],
      "metadata": {
        "id": "-61o4-pCJ7y8",
        "cell_id": "fff45f9bf95e45809157e86eb45afc93",
        "deepnote_cell_height": 94,
        "deepnote_app_coordinates": {
          "h": 5,
          "w": 12,
          "x": 0,
          "y": 109
        },
        "deepnote_cell_type": "markdown"
      }
    },
    {
      "cell_type": "code",
      "source": [
        "# your code is here\n",
        "ar8=np.random.rand(100,2)"
      ],
      "metadata": {
        "id": "NpxV1fsOUVtd",
        "cell_id": "d05bc737c9f1451c862547a08663ec45",
        "source_hash": "b0768213",
        "execution_start": 1664740594785,
        "execution_millis": 174,
        "deepnote_app_coordinates": {
          "h": 5,
          "w": 12,
          "x": 0,
          "y": 115
        },
        "deepnote_to_be_reexecuted": false,
        "deepnote_app_is_code_hidden": true,
        "deepnote_cell_type": "code"
      },
      "outputs": [],
      "execution_count": null
    },
    {
      "cell_type": "markdown",
      "source": [
        "### Task: Create a numpy matrix of 2\\*3\\*4, filled with integers from 1 to 24."
      ],
      "metadata": {
        "id": "jZ4l3axBJ5tJ",
        "cell_id": "dfdbf45e21b54b0f889e5d899f9a043d",
        "deepnote_cell_height": 94,
        "deepnote_app_coordinates": {
          "h": 5,
          "w": 12,
          "x": 0,
          "y": 121
        },
        "deepnote_cell_type": "markdown"
      }
    },
    {
      "cell_type": "code",
      "source": [
        "# your code is here\n",
        "ar9 = np.arange(1,25).reshape(2,3,4)\n",
        "ar9\n"
      ],
      "metadata": {
        "id": "G3AKUvkMUWu2",
        "cell_id": "dd4181fdbe7944d19c8d9be35fdaa341",
        "source_hash": "a9571c83",
        "execution_start": 1664740594809,
        "execution_millis": 151,
        "deepnote_app_coordinates": {
          "h": 5,
          "w": 12,
          "x": 0,
          "y": 127
        },
        "deepnote_to_be_reexecuted": false,
        "deepnote_app_is_code_hidden": true,
        "deepnote_cell_type": "code",
        "colab": {
          "base_uri": "https://localhost:8080/"
        },
        "outputId": "a6464307-2e91-42d5-f57e-7c74b21a1fcf"
      },
      "outputs": [
        {
          "output_type": "execute_result",
          "data": {
            "text/plain": [
              "array([[[ 1,  2,  3,  4],\n",
              "        [ 5,  6,  7,  8],\n",
              "        [ 9, 10, 11, 12]],\n",
              "\n",
              "       [[13, 14, 15, 16],\n",
              "        [17, 18, 19, 20],\n",
              "        [21, 22, 23, 24]]])"
            ]
          },
          "metadata": {},
          "execution_count": 4
        }
      ],
      "execution_count": 4
    },
    {
      "cell_type": "markdown",
      "source": [
        "## Array Indexing"
      ],
      "metadata": {
        "id": "1ut5x4Zl2RVu",
        "cell_id": "bddbc097c1aa45fd8bb1e3f9e0e63901",
        "deepnote_cell_height": 70,
        "deepnote_app_coordinates": {
          "h": 5,
          "w": 12,
          "x": 0,
          "y": 133
        },
        "deepnote_cell_type": "markdown"
      }
    },
    {
      "cell_type": "markdown",
      "source": [
        "### Task: Let X be a numpy array, and X = np.array([1, 2, 3, 4, 5])"
      ],
      "metadata": {
        "id": "3iWGsCO4KpaD",
        "cell_id": "2e0edb9da53940378b27d0465ee96d20",
        "deepnote_cell_height": 94,
        "deepnote_app_coordinates": {
          "h": 5,
          "w": 12,
          "x": 0,
          "y": 139
        },
        "deepnote_cell_type": "markdown"
      }
    },
    {
      "cell_type": "code",
      "source": [
        "# your code is here"
      ],
      "metadata": {
        "id": "oloub45JBXL6",
        "cell_id": "72ce2806409f48628e96cb27864b4a43",
        "source_hash": "b480f2b",
        "execution_start": 1664740594811,
        "execution_millis": 0,
        "deepnote_app_coordinates": {
          "h": 5,
          "w": 12,
          "x": 0,
          "y": 145
        },
        "deepnote_to_be_reexecuted": false,
        "deepnote_app_is_code_hidden": true,
        "deepnote_cell_type": "code"
      },
      "outputs": [],
      "execution_count": 5
    },
    {
      "cell_type": "markdown",
      "source": [
        "### Task: Show the first element of X"
      ],
      "metadata": {
        "id": "dGUiTYKM4XTF",
        "cell_id": "9931735045864edfb9705e8f40cf91c9",
        "deepnote_cell_height": 62,
        "deepnote_app_coordinates": {
          "h": 5,
          "w": 12,
          "x": 0,
          "y": 151
        },
        "deepnote_cell_type": "markdown"
      }
    },
    {
      "cell_type": "code",
      "source": [
        "# your code is here"
      ],
      "metadata": {
        "id": "MQ9sEgvL8Mph",
        "cell_id": "8849781fd3ee40f2b6a3850090cd641e",
        "source_hash": "f3a00d0b",
        "execution_start": 1664740594812,
        "execution_millis": 148,
        "deepnote_app_coordinates": {
          "h": 5,
          "w": 12,
          "x": 0,
          "y": 157
        },
        "deepnote_to_be_reexecuted": false,
        "deepnote_app_is_code_hidden": true,
        "deepnote_cell_type": "code"
      },
      "outputs": [],
      "execution_count": 6
    },
    {
      "cell_type": "markdown",
      "source": [
        "### Task: Show the last element of X"
      ],
      "metadata": {
        "id": "VYkj8Sni5SLY",
        "cell_id": "d1744d94a4bd48a5bf6d7e323bfd8a98",
        "deepnote_cell_height": 62,
        "deepnote_app_coordinates": {
          "h": 5,
          "w": 12,
          "x": 0,
          "y": 163
        },
        "deepnote_cell_type": "markdown"
      }
    },
    {
      "cell_type": "code",
      "source": [
        "# your code is here"
      ],
      "metadata": {
        "id": "ezJbefBc8NSc",
        "cell_id": "675b3b9a076f4cd3b681db7bf5911f62",
        "source_hash": "edb870c4",
        "execution_start": 1664740594813,
        "execution_millis": 148,
        "deepnote_app_coordinates": {
          "h": 5,
          "w": 12,
          "x": 0,
          "y": 169
        },
        "deepnote_to_be_reexecuted": false,
        "deepnote_app_is_code_hidden": true,
        "deepnote_cell_type": "code"
      },
      "outputs": [],
      "execution_count": 7
    },
    {
      "cell_type": "markdown",
      "source": [
        "### Task: Show the first 3 elements of X"
      ],
      "metadata": {
        "id": "-BEsJESu4hx0",
        "cell_id": "8a0d1e6b3a314a65ad04883305c74621",
        "deepnote_cell_height": 62,
        "deepnote_app_coordinates": {
          "h": 5,
          "w": 12,
          "x": 0,
          "y": 175
        },
        "deepnote_cell_type": "markdown"
      }
    },
    {
      "cell_type": "code",
      "source": [
        "# your code is here"
      ],
      "metadata": {
        "id": "GqsoQylO8Nz4",
        "cell_id": "9ab33bdf07994a8d8645171216d5a0b9",
        "source_hash": "9e584014",
        "execution_start": 1664740594835,
        "execution_millis": 83433,
        "deepnote_app_coordinates": {
          "h": 5,
          "w": 12,
          "x": 0,
          "y": 181
        },
        "deepnote_to_be_reexecuted": false,
        "deepnote_app_is_code_hidden": true,
        "deepnote_cell_type": "code"
      },
      "outputs": [],
      "execution_count": 8
    },
    {
      "cell_type": "markdown",
      "source": [
        "### Task: Show the last 3 elements of X"
      ],
      "metadata": {
        "id": "NOLUtTzDLD-l",
        "cell_id": "8c68aa539db54e35af1e76524fa74dd0",
        "deepnote_cell_height": 61.59375,
        "deepnote_app_coordinates": {
          "h": 5,
          "w": 12,
          "x": 0,
          "y": 187
        },
        "deepnote_cell_type": "markdown"
      }
    },
    {
      "cell_type": "code",
      "source": [
        "# your code is here"
      ],
      "metadata": {
        "id": "p_YG72N2UYjG",
        "cell_id": "928fddc6c67e4790ab78eb6ce6033fef",
        "source_hash": "60608f21",
        "execution_start": 1664740594850,
        "execution_millis": 111,
        "deepnote_app_coordinates": {
          "h": 5,
          "w": 12,
          "x": 0,
          "y": 193
        },
        "deepnote_to_be_reexecuted": false,
        "deepnote_app_is_code_hidden": true,
        "deepnote_cell_type": "code"
      },
      "outputs": [],
      "execution_count": 9
    },
    {
      "cell_type": "markdown",
      "source": [
        "### Task: Show the elements of X whose index is odd (1, 3, 5, ...)"
      ],
      "metadata": {
        "id": "_dzBCEzWLG3v",
        "cell_id": "290cf7853b0d4e4ab4196e74ff1428c7",
        "deepnote_cell_height": 93.59375,
        "deepnote_app_coordinates": {
          "h": 5,
          "w": 12,
          "x": 0,
          "y": 199
        },
        "deepnote_cell_type": "markdown"
      }
    },
    {
      "cell_type": "code",
      "source": [
        "# your code is here"
      ],
      "metadata": {
        "id": "e-G7QckRUZIs",
        "cell_id": "281265d4fb47402b98935a1b28c7651e",
        "source_hash": "fae66760",
        "execution_start": 1664740594851,
        "execution_millis": 111,
        "deepnote_app_coordinates": {
          "h": 5,
          "w": 12,
          "x": 0,
          "y": 205
        },
        "deepnote_to_be_reexecuted": false,
        "deepnote_app_is_code_hidden": true,
        "deepnote_cell_type": "code"
      },
      "outputs": [],
      "execution_count": 10
    },
    {
      "cell_type": "markdown",
      "source": [
        "### Task: Show the elements of X except the last one"
      ],
      "metadata": {
        "id": "tsukfJQ1LabJ",
        "cell_id": "573ff5d9fe6f45f5a3525db8c8eb3f8c",
        "deepnote_cell_height": 61.59375,
        "deepnote_app_coordinates": {
          "h": 5,
          "w": 12,
          "x": 0,
          "y": 211
        },
        "deepnote_cell_type": "markdown"
      }
    },
    {
      "cell_type": "code",
      "source": [
        "# your code is here"
      ],
      "metadata": {
        "id": "PlPO_MgPUZqG",
        "cell_id": "a0540e612d4b49f7be8c38b63001f290",
        "source_hash": "a1d4d2f5",
        "execution_start": 1664740594853,
        "execution_millis": 109,
        "deepnote_app_coordinates": {
          "h": 5,
          "w": 12,
          "x": 0,
          "y": 217
        },
        "deepnote_to_be_reexecuted": false,
        "deepnote_app_is_code_hidden": true,
        "deepnote_cell_type": "code"
      },
      "outputs": [],
      "execution_count": 11
    },
    {
      "cell_type": "markdown",
      "source": [
        "### Task: Let X be a numpy matrix with dimension 3 * 4, and filled from 0 to 11."
      ],
      "metadata": {
        "id": "8EhDJvC2Lm77",
        "cell_id": "852dee00ed504c4097b4434ce4c0fb3f",
        "deepnote_cell_height": 93.59375,
        "deepnote_app_coordinates": {
          "h": 5,
          "w": 12,
          "x": 0,
          "y": 223
        },
        "deepnote_cell_type": "markdown"
      }
    },
    {
      "cell_type": "code",
      "source": [
        "# your code is here"
      ],
      "metadata": {
        "id": "vm1dJq31BzpT",
        "cell_id": "f4102c527d894a21a4386d22fd2673b4",
        "source_hash": "50375222",
        "execution_start": 1664740594861,
        "execution_millis": 102,
        "deepnote_app_coordinates": {
          "h": 5,
          "w": 12,
          "x": 0,
          "y": 229
        },
        "deepnote_to_be_reexecuted": false,
        "deepnote_app_is_code_hidden": true,
        "deepnote_cell_type": "code"
      },
      "outputs": [],
      "execution_count": 12
    },
    {
      "cell_type": "markdown",
      "source": [
        "### Task: Show the first row of X"
      ],
      "metadata": {
        "id": "hi4_PetZ4oJk",
        "cell_id": "06d589e300e94b589e1a28fd2d0e7d50",
        "deepnote_cell_height": 61.59375,
        "deepnote_app_coordinates": {
          "h": 5,
          "w": 12,
          "x": 0,
          "y": 235
        },
        "deepnote_cell_type": "markdown"
      }
    },
    {
      "cell_type": "code",
      "source": [
        "# your code is here"
      ],
      "metadata": {
        "id": "Iwz0Ljxs8OqA",
        "cell_id": "3b3607e4e6794d7789d7ef1f5350476a",
        "source_hash": "f3a00d0b",
        "execution_start": 1664740594863,
        "execution_millis": 101,
        "deepnote_app_coordinates": {
          "h": 5,
          "w": 12,
          "x": 0,
          "y": 241
        },
        "deepnote_to_be_reexecuted": false,
        "deepnote_app_is_code_hidden": true,
        "deepnote_cell_type": "code"
      },
      "outputs": [],
      "execution_count": 13
    },
    {
      "cell_type": "markdown",
      "source": [
        "### Task: Show the first column of X"
      ],
      "metadata": {
        "id": "4juNISwiP3jt",
        "cell_id": "f395fe73e44b4eaba9cf9d8cba757062",
        "deepnote_cell_height": 61.59375,
        "deepnote_app_coordinates": {
          "h": 5,
          "w": 12,
          "x": 0,
          "y": 247
        },
        "deepnote_cell_type": "markdown"
      }
    },
    {
      "cell_type": "code",
      "source": [
        "# your code is here"
      ],
      "metadata": {
        "id": "dPDgvTVeUakl",
        "cell_id": "12bafe8791c9487a886c7111cf6a8d1d",
        "source_hash": "e5917d5b",
        "execution_start": 1664740594865,
        "execution_millis": 99,
        "deepnote_app_coordinates": {
          "h": 5,
          "w": 12,
          "x": 0,
          "y": 253
        },
        "deepnote_to_be_reexecuted": false,
        "deepnote_app_is_code_hidden": true,
        "deepnote_cell_type": "code"
      },
      "outputs": [],
      "execution_count": 14
    },
    {
      "cell_type": "markdown",
      "source": [
        "### Task: Show the first element of the first row of X"
      ],
      "metadata": {
        "id": "FOhsq6KcP6BX",
        "cell_id": "d9ec926b9dcc47d292263f836bc94e9b",
        "deepnote_cell_height": 61.59375,
        "deepnote_app_coordinates": {
          "h": 5,
          "w": 12,
          "x": 0,
          "y": 259
        },
        "deepnote_cell_type": "markdown"
      }
    },
    {
      "cell_type": "code",
      "source": [
        "# your code is here"
      ],
      "metadata": {
        "id": "HpawggljUbOk",
        "cell_id": "5af0e5dbbfd7424e97ae52bb05b859a2",
        "source_hash": "bc5a72c",
        "execution_start": 1664740594872,
        "execution_millis": 97,
        "deepnote_cell_height": 111.578125,
        "deepnote_output_heights": [
          20.1875
        ],
        "deepnote_app_coordinates": {
          "h": 5,
          "w": 12,
          "x": 0,
          "y": 265
        },
        "deepnote_to_be_reexecuted": false,
        "deepnote_app_is_code_hidden": true,
        "deepnote_cell_type": "code"
      },
      "outputs": [],
      "execution_count": 15
    },
    {
      "cell_type": "markdown",
      "source": [
        "### Task: Show the last row of X"
      ],
      "metadata": {
        "id": "1fCRCWyxP_rX",
        "cell_id": "8338dee5787a431ea95aee0020d7843d",
        "deepnote_cell_height": 61.59375,
        "deepnote_app_coordinates": {
          "h": 5,
          "w": 12,
          "x": 0,
          "y": 271
        },
        "deepnote_cell_type": "markdown"
      }
    },
    {
      "cell_type": "code",
      "source": [
        "# your code is here"
      ],
      "metadata": {
        "id": "hVPhcd5cUby8",
        "cell_id": "b6271592c404496481e5dffc2b86c43d",
        "source_hash": "edb870c4",
        "execution_start": 1664740594875,
        "execution_millis": 95,
        "deepnote_cell_height": 111.578125,
        "deepnote_output_heights": [
          20.1875
        ],
        "deepnote_app_coordinates": {
          "h": 5,
          "w": 12,
          "x": 0,
          "y": 277
        },
        "deepnote_to_be_reexecuted": false,
        "deepnote_app_is_code_hidden": true,
        "deepnote_cell_type": "code"
      },
      "outputs": [],
      "execution_count": 16
    },
    {
      "cell_type": "markdown",
      "source": [
        "### Task: Show the last column of X"
      ],
      "metadata": {
        "id": "VfwEaj7-QB68",
        "cell_id": "ee9953509dd34c16a4271f16996b98f9",
        "deepnote_cell_height": 61.59375,
        "deepnote_app_coordinates": {
          "h": 5,
          "w": 12,
          "x": 0,
          "y": 283
        },
        "deepnote_cell_type": "markdown"
      }
    },
    {
      "cell_type": "code",
      "source": [
        "# your code is here"
      ],
      "metadata": {
        "id": "R9LK1G9wUcat",
        "cell_id": "596f69c6ca3f4d878569a647d72f8fc5",
        "source_hash": "227af499",
        "execution_start": 1664740594900,
        "execution_millis": 71,
        "deepnote_app_coordinates": {
          "h": 5,
          "w": 12,
          "x": 0,
          "y": 289
        },
        "deepnote_to_be_reexecuted": false,
        "deepnote_app_is_code_hidden": true,
        "deepnote_cell_type": "code"
      },
      "outputs": [],
      "execution_count": 17
    },
    {
      "cell_type": "markdown",
      "source": [
        "### Task: Show the last element of the last row of X"
      ],
      "metadata": {
        "id": "gfnCcIJmQEFZ",
        "cell_id": "2564e6aa723f4c8b95ca1c5a3b89b902",
        "deepnote_cell_height": 61.59375,
        "deepnote_app_coordinates": {
          "h": 5,
          "w": 12,
          "x": 0,
          "y": 295
        },
        "deepnote_cell_type": "markdown"
      }
    },
    {
      "cell_type": "code",
      "source": [
        "# your code is here"
      ],
      "metadata": {
        "id": "8cKHG30wUc4-",
        "cell_id": "c1cad4c6723f467598a7afb38ecdfa7f",
        "source_hash": "bc86b63b",
        "execution_start": 1664740594901,
        "execution_millis": 70,
        "deepnote_app_coordinates": {
          "h": 5,
          "w": 12,
          "x": 0,
          "y": 301
        },
        "deepnote_to_be_reexecuted": false,
        "deepnote_app_is_code_hidden": true,
        "deepnote_cell_type": "code"
      },
      "outputs": [],
      "execution_count": 18
    },
    {
      "cell_type": "markdown",
      "source": [
        "### Task: Show all the rows except the last row of X"
      ],
      "metadata": {
        "id": "mavuLFztQGkA",
        "cell_id": "1ce01c9af0bc4432a1aa40b7a1d85080",
        "deepnote_cell_height": 61.59375,
        "deepnote_app_coordinates": {
          "h": 5,
          "w": 12,
          "x": 0,
          "y": 307
        },
        "deepnote_cell_type": "markdown"
      }
    },
    {
      "cell_type": "code",
      "source": [
        "# your code is here"
      ],
      "metadata": {
        "id": "yqg06Mk9Udeb",
        "cell_id": "d2f61578281a47e18ad02a6d11be55f6",
        "source_hash": "a1d4d2f5",
        "execution_start": 1664740594903,
        "execution_millis": 69,
        "deepnote_app_coordinates": {
          "h": 5,
          "w": 12,
          "x": 0,
          "y": 313
        },
        "deepnote_to_be_reexecuted": false,
        "deepnote_app_is_code_hidden": true,
        "deepnote_cell_type": "code"
      },
      "outputs": [],
      "execution_count": 19
    },
    {
      "cell_type": "markdown",
      "source": [
        "### Task: Show all the columns except the last column of X"
      ],
      "metadata": {
        "id": "gsugFt6CQSv8",
        "cell_id": "35a4f524783c49fcb4df789e2a9f39ec",
        "deepnote_cell_height": 93.59375,
        "deepnote_app_coordinates": {
          "h": 5,
          "w": 12,
          "x": 0,
          "y": 319
        },
        "deepnote_cell_type": "markdown"
      }
    },
    {
      "cell_type": "code",
      "source": [
        "# your code is here"
      ],
      "metadata": {
        "id": "aSmfSj0rUd0d",
        "cell_id": "2f354532fb1a4af7a1d7d69fdfab9fea",
        "source_hash": "d6fd4411",
        "execution_start": 1664740594905,
        "execution_millis": 68,
        "deepnote_app_coordinates": {
          "h": 5,
          "w": 12,
          "x": 0,
          "y": 325
        },
        "deepnote_to_be_reexecuted": false,
        "deepnote_app_is_code_hidden": true,
        "deepnote_cell_type": "code"
      },
      "outputs": [],
      "execution_count": 20
    },
    {
      "cell_type": "markdown",
      "source": [
        "### Task: Show the first two elements of the first two rows"
      ],
      "metadata": {
        "id": "q39M28ow6Oqj",
        "cell_id": "b4e77222ba3e44c2bf2513c97aa13cc9",
        "deepnote_cell_height": 93.59375,
        "deepnote_app_coordinates": {
          "h": 5,
          "w": 12,
          "x": 0,
          "y": 331
        },
        "deepnote_cell_type": "markdown"
      }
    },
    {
      "cell_type": "code",
      "source": [
        "# your code is here"
      ],
      "metadata": {
        "id": "i5tQ-9118PPg",
        "cell_id": "e61b662a0fc04c628aa1f0093fce747b",
        "source_hash": "13a56d4d",
        "execution_start": 1664740594949,
        "execution_millis": 26,
        "deepnote_app_coordinates": {
          "h": 5,
          "w": 12,
          "x": 0,
          "y": 337
        },
        "deepnote_to_be_reexecuted": false,
        "deepnote_app_is_code_hidden": true,
        "deepnote_cell_type": "code"
      },
      "outputs": [],
      "execution_count": 21
    },
    {
      "cell_type": "markdown",
      "source": [
        "## Array Statistics"
      ],
      "metadata": {
        "id": "BwMQX2n4Ttkk",
        "cell_id": "fc04b1e071d54ebc85e22e077b4840a9",
        "deepnote_cell_height": 69.59375,
        "deepnote_app_coordinates": {
          "h": 5,
          "w": 12,
          "x": 0,
          "y": 343
        },
        "deepnote_cell_type": "markdown"
      }
    },
    {
      "cell_type": "markdown",
      "source": [
        "### Task: Create a numpy array X, print the sum, mean, std, var, max, min of it"
      ],
      "metadata": {
        "id": "ZC1IirZtSi13",
        "cell_id": "27fcd2c7e4ff4d9c8269c271bf0d10bf",
        "deepnote_cell_height": 93.59375,
        "deepnote_app_coordinates": {
          "h": 5,
          "w": 12,
          "x": 0,
          "y": 349
        },
        "deepnote_cell_type": "markdown"
      }
    },
    {
      "cell_type": "code",
      "source": [
        "# your code is here"
      ],
      "metadata": {
        "id": "VDEv57JAUer6",
        "cell_id": "5aa6d5a171a4493a946573987053c391",
        "source_hash": "80ba9c0a",
        "execution_start": 1664740594950,
        "execution_millis": 25,
        "deepnote_app_coordinates": {
          "h": 5,
          "w": 12,
          "x": 0,
          "y": 355
        },
        "deepnote_to_be_reexecuted": false,
        "deepnote_app_is_code_hidden": true,
        "deepnote_cell_type": "code"
      },
      "outputs": [],
      "execution_count": 22
    },
    {
      "cell_type": "markdown",
      "source": [
        "### Task: Create a numpy matrix X as n * m, print the sum, mean, std, var, max, min of the 1st row of it."
      ],
      "metadata": {
        "id": "0Db2EBujS1x2",
        "cell_id": "62153ef6c9a94821bc6b244583b7a518",
        "deepnote_cell_height": 93.59375,
        "deepnote_app_coordinates": {
          "h": 5,
          "w": 12,
          "x": 0,
          "y": 361
        },
        "deepnote_cell_type": "markdown"
      }
    },
    {
      "cell_type": "code",
      "source": [
        "# your code is here"
      ],
      "metadata": {
        "id": "i_PJh-WyUe-h",
        "cell_id": "dd272860ff5c4d06a453f9184801b816",
        "source_hash": "33ca766d",
        "execution_start": 1664740594951,
        "execution_millis": 33,
        "deepnote_app_coordinates": {
          "h": 5,
          "w": 12,
          "x": 0,
          "y": 367
        },
        "deepnote_to_be_reexecuted": false,
        "deepnote_app_is_code_hidden": true,
        "deepnote_cell_type": "code"
      },
      "outputs": [],
      "execution_count": 23
    },
    {
      "cell_type": "markdown",
      "source": [
        "### Task: Create a numpy matrix X as n * m, print the sum, mean, std, var, max, min of the 1st column of it."
      ],
      "metadata": {
        "id": "MUPGzrQIS8SJ",
        "cell_id": "3919a20927284b4597dd60fb7d8d4727",
        "deepnote_cell_height": 125.59375,
        "deepnote_app_coordinates": {
          "h": 5,
          "w": 12,
          "x": 0,
          "y": 373
        },
        "deepnote_cell_type": "markdown"
      }
    },
    {
      "cell_type": "code",
      "source": [
        "# your code is here"
      ],
      "metadata": {
        "id": "d9ufG5uWUfd0",
        "cell_id": "c97dafc208a446b1833cef5f1f97b1e7",
        "source_hash": "ab2ffb08",
        "execution_start": 1664740594978,
        "execution_millis": 6,
        "deepnote_app_coordinates": {
          "h": 5,
          "w": 12,
          "x": 0,
          "y": 379
        },
        "deepnote_to_be_reexecuted": false,
        "deepnote_app_is_code_hidden": true,
        "deepnote_cell_type": "code"
      },
      "outputs": [],
      "execution_count": 24
    },
    {
      "cell_type": "markdown",
      "source": [
        "## Array Linear Algebra"
      ],
      "metadata": {
        "id": "fl9WXnhTTAol",
        "cell_id": "8f336a17e34040cdb10eab652cf885f2",
        "deepnote_cell_height": 69.59375,
        "deepnote_app_coordinates": {
          "h": 5,
          "w": 12,
          "x": 0,
          "y": 385
        },
        "deepnote_cell_type": "markdown"
      }
    },
    {
      "cell_type": "markdown",
      "source": [
        "### Task: Create two numpy matrix X with 2 * 2, and Y with 2 * 2. Practice Linear Algebra operations, such as +, -, *, .T, @, etc."
      ],
      "metadata": {
        "id": "Ll4gLDnfSOTv",
        "cell_id": "74a1a08cb6524538a62a53b6851d67ea",
        "deepnote_cell_height": 125.59375,
        "deepnote_app_coordinates": {
          "h": 5,
          "w": 12,
          "x": 0,
          "y": 391
        },
        "deepnote_cell_type": "markdown"
      }
    },
    {
      "cell_type": "code",
      "source": [
        "# your code is here\n",
        "X = np.array([[1, 2], [3, 4]])\n",
        "Y = np.array([[5, 6], [7, 8]])\n",
        "print(X + Y)\n",
        "print(X - Y)\n",
        "print(X * Y)\n",
        "print(X.T)\n",
        "print(X @ Y)\n"
      ],
      "metadata": {
        "id": "T3K8rFcMUgPT",
        "cell_id": "7ab5d516165d4feb83855c06e78db99c",
        "source_hash": "c5d03422",
        "execution_start": 1664740594979,
        "execution_millis": 5,
        "deepnote_app_coordinates": {
          "h": 5,
          "w": 12,
          "x": 0,
          "y": 397
        },
        "deepnote_to_be_reexecuted": false,
        "deepnote_app_is_code_hidden": true,
        "deepnote_cell_type": "code",
        "colab": {
          "base_uri": "https://localhost:8080/"
        },
        "outputId": "b3c0cf6a-8316-41ab-f481-57242fa2ad5d"
      },
      "outputs": [
        {
          "output_type": "stream",
          "name": "stdout",
          "text": [
            "[[ 6  8]\n",
            " [10 12]]\n",
            "[[-4 -4]\n",
            " [-4 -4]]\n",
            "[[ 5 12]\n",
            " [21 32]]\n",
            "[[1 3]\n",
            " [2 4]]\n",
            "[[19 22]\n",
            " [43 50]]\n"
          ]
        }
      ],
      "execution_count": 25
    }
  ],
  "nbformat": 4,
  "nbformat_minor": 0,
  "metadata": {
    "colab": {
      "provenance": [],
      "toc_visible": true,
      "include_colab_link": true
    },
    "deepnote": {},
    "kernelspec": {
      "name": "python3",
      "display_name": "Python 3"
    },
    "language_info": {
      "name": "python"
    },
    "deepnote_app_layout": "article",
    "deepnote_notebook_id": "ea0a78f5003e420b9294549d2de07cb3",
    "deepnote_execution_queue": [],
    "deepnote_persisted_session": {
      "createdAt": "2022-10-02T20:31:46.191Z"
    }
  }
}